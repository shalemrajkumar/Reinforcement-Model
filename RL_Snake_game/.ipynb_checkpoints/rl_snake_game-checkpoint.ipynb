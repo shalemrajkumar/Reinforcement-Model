{
 "cells": [
  {
   "cell_type": "markdown",
   "id": "1aea656b",
   "metadata": {},
   "source": [
    "#### Depenencies"
   ]
  },
  {
   "cell_type": "code",
   "execution_count": 2,
   "id": "4025cb6a",
   "metadata": {},
   "outputs": [
    {
     "name": "stdout",
     "output_type": "stream",
     "text": [
      "Requirement already satisfied: pygame in c:\\users\\91628\\anaconda3\\lib\\site-packages (2.5.1)\n",
      "Requirement already satisfied: torch in c:\\users\\91628\\anaconda3\\lib\\site-packages (2.0.1)\n",
      "Requirement already satisfied: torchvision in c:\\users\\91628\\anaconda3\\lib\\site-packages (0.15.2)\n",
      "Requirement already satisfied: filelock in c:\\users\\91628\\anaconda3\\lib\\site-packages (from torch) (3.3.1)\n",
      "Requirement already satisfied: typing-extensions in c:\\users\\91628\\anaconda3\\lib\\site-packages (from torch) (3.10.0.2)\n",
      "Requirement already satisfied: sympy in c:\\users\\91628\\anaconda3\\lib\\site-packages (from torch) (1.9)\n",
      "Requirement already satisfied: networkx in c:\\users\\91628\\anaconda3\\lib\\site-packages (from torch) (2.6.3)\n",
      "Requirement already satisfied: jinja2 in c:\\users\\91628\\anaconda3\\lib\\site-packages (from torch) (2.11.3)\n",
      "Requirement already satisfied: numpy in c:\\users\\91628\\anaconda3\\lib\\site-packages (from torchvision) (1.20.3)\n",
      "Requirement already satisfied: requests in c:\\users\\91628\\anaconda3\\lib\\site-packages (from torchvision) (2.26.0)\n",
      "Requirement already satisfied: pillow!=8.3.*,>=5.3.0 in c:\\users\\91628\\anaconda3\\lib\\site-packages (from torchvision) (8.4.0)\n",
      "Requirement already satisfied: MarkupSafe>=0.23 in c:\\users\\91628\\anaconda3\\lib\\site-packages (from jinja2->torch) (1.1.1)\n",
      "Requirement already satisfied: idna<4,>=2.5 in c:\\users\\91628\\anaconda3\\lib\\site-packages (from requests->torchvision) (3.2)\n",
      "Requirement already satisfied: certifi>=2017.4.17 in c:\\users\\91628\\anaconda3\\lib\\site-packages (from requests->torchvision) (2021.10.8)\n",
      "Requirement already satisfied: urllib3<1.27,>=1.21.1 in c:\\users\\91628\\anaconda3\\lib\\site-packages (from requests->torchvision) (1.26.7)\n",
      "Requirement already satisfied: charset-normalizer~=2.0.0 in c:\\users\\91628\\anaconda3\\lib\\site-packages (from requests->torchvision) (2.0.4)\n",
      "Requirement already satisfied: mpmath>=0.19 in c:\\users\\91628\\anaconda3\\lib\\site-packages (from sympy->torch) (1.2.1)\n"
     ]
    }
   ],
   "source": [
    "! pip install pygame\n",
    "! pip install torch torchvision"
   ]
  },
  {
   "cell_type": "markdown",
   "id": "99b9be1e",
   "metadata": {},
   "source": [
    "#### imports"
   ]
  },
  {
   "cell_type": "code",
   "execution_count": 8,
   "id": "7acc7c5f",
   "metadata": {},
   "outputs": [],
   "source": [
    "import numpy as np\n",
    "import torch\n",
    "import pygame\n",
    "import random\n",
    "from enum import Enum\n",
    "from collections import namedtuple"
   ]
  },
  {
   "cell_type": "markdown",
   "id": "32bc2d55",
   "metadata": {},
   "source": [
    "#### initializations"
   ]
  },
  {
   "cell_type": "code",
   "execution_count": 9,
   "id": "b1c5af99",
   "metadata": {},
   "outputs": [],
   "source": [
    "pygame.init()\n",
    "font = pygame.font.Font('arial.ttf', 25)\n",
    "#font = pygame.font.SysFont('arial', 25)\n",
    "\n",
    "class Direction(Enum):\n",
    "    DOWN = 4\n",
    "    \n",
    "Point = namedtuple('Point', 'x, y')\n",
    "\n",
    "# rgb colors\n",
    "WHITE = (255, 255, 255)\n",
    "RED = (200,0,0)\n",
    "BLUE1 = (0, 0, 255)\n",
    "BLUE2 = (0, 100, 255)\n",
    "BLACK = (0,0,0)\n",
    "\n",
    "BLOCK_SIZE = 20\n",
    "SPEED = 20"
   ]
  },
  {
   "cell_type": "markdown",
   "id": "365bd54f",
   "metadata": {},
   "source": [
    "### main_class"
   ]
  },
  {
   "cell_type": "code",
   "execution_count": 11,
   "id": "c25a82fd",
   "metadata": {},
   "outputs": [
    {
     "ename": "SyntaxError",
     "evalue": "invalid syntax (Temp/ipykernel_14244/1564134926.py, line 67)",
     "output_type": "error",
     "traceback": [
      "\u001b[1;36m  File \u001b[1;32m\"C:\\Users\\91628\\AppData\\Local\\Temp/ipykernel_14244/1564134926.py\"\u001b[1;36m, line \u001b[1;32m67\u001b[0m\n\u001b[1;33m    def _is_collision(self, .=None):\u001b[0m\n\u001b[1;37m                            ^\u001b[0m\n\u001b[1;31mSyntaxError\u001b[0m\u001b[1;31m:\u001b[0m invalid syntax\n"
     ]
    }
   ],
   "source": [
    "class RL_snake_game:\n",
    "    \n",
    "    def __init__(self, w=640, h=480):\n",
    "        self.w = w\n",
    "        self.h = h\n",
    "        # init display\n",
    "        self.display = pygame.display.set_mode((self.w, self.h))\n",
    "        pygame.display.set_caption('Snake')\n",
    "        self.clock = pygame.time.Clock()\n",
    "        self.reset() # init game state\n",
    "        \n",
    "    def reset(self):\n",
    "         # init game state\n",
    "        self.direction = Direction.RIGHT\n",
    "        \n",
    "        self.head = Point(self.w/2, self.h/2)\n",
    "        self.snake = [self.head, \n",
    "                      Point(self.head.x-BLOCK_SIZE, self.head.y),\n",
    "                      Point(self.head.x-(2*BLOCK_SIZE), self.head.y)]\n",
    "        \n",
    "        self.score = 0\n",
    "        self.food = None\n",
    "        self._place_food()\n",
    "        self.tracker = 0\n",
    "        \n",
    "    def _place_food(self):\n",
    "        x = random.randint(0, (self.w-BLOCK_SIZE )//BLOCK_SIZE )*BLOCK_SIZE \n",
    "        y = random.randint(0, (self.h-BLOCK_SIZE )//BLOCK_SIZE )*BLOCK_SIZE\n",
    "        self.food = Point(x, y)\n",
    "        if self.food in self.snake:\n",
    "            self._place_food()\n",
    "        \n",
    "    def play_step(self, action):\n",
    "        self.tracker += 1\n",
    "        # 1. collect user input\n",
    "        for event in pygame.event.get():\n",
    "            if event.type == pygame.QUIT:\n",
    "                pygame.quit()\n",
    "                quit()\n",
    "        \n",
    "        # 2. move\n",
    "        self._move(action) # update the head\n",
    "        self.snake.insert(0, self.head)\n",
    "        \n",
    "        # 3. check if game over\n",
    "        reward = 0                                       #(+10, -10, 0)\n",
    "        game_over = False\n",
    "        if self._is_collision() or self.tracker > 100 * len(self.snake):\n",
    "            game_over = True\n",
    "            reward = -10\n",
    "            return reward, game_over, self.score\n",
    "            \n",
    "        # 4. place new food or just move\n",
    "        if self.head == self.food:\n",
    "            self.score += 1\n",
    "            reward = 10\n",
    "            self._place_food()\n",
    "        else:\n",
    "            self.snake.pop()\n",
    "        \n",
    "        # 5. update ui and clock\n",
    "        self._update_ui()\n",
    "        self.clock.tick(SPEED)\n",
    "        # 6. return game over and score\n",
    "        return reward, game_over, self.score\n",
    "    \n",
    "    def _is_collision(self, pt=None):\n",
    "        if pt = None:\n",
    "            pt = self.head\n",
    "        # hits boundary\n",
    "        if pt.x > self.w - BLOCK_SIZE or pt.x < 0 or pt.y > self.h - BLOCK_SIZE or pt.y < 0:\n",
    "            return True\n",
    "        # hits itself\n",
    "        if pt in self.snake[1:]:\n",
    "            return True\n",
    "        \n",
    "        return False\n",
    "        \n",
    "    def _update_ui(self):\n",
    "        self.display.fill(BLACK)\n",
    "        \n",
    "        for pt in self.snake:\n",
    "            pygame.draw.rect(self.display, BLUE1, pygame.Rect(pt.x, pt.y, BLOCK_SIZE, BLOCK_SIZE))\n",
    "            pygame.draw.rect(self.display, BLUE2, pygame.Rect(pt.x+4, pt.y+4, 12, 12))\n",
    "            \n",
    "        pygame.draw.rect(self.display, RED, pygame.Rect(self.food.x, self.food.y, BLOCK_SIZE, BLOCK_SIZE))\n",
    "        \n",
    "        text = font.render(\"Score: \" + str(self.score), True, WHITE)\n",
    "        self.display.blit(text, [0, 0])\n",
    "        pygame.display.flip()\n",
    "        \n",
    "    def _move(self, action):\n",
    "                                # [straight, right, left]\n",
    "        \n",
    "        clock_wise = [Direction.RIGHT, Direction.DOWN, Direction.LEFT, Direction.UP]\n",
    "        idx = clock_wise.index(self.direction)\n",
    "                \n",
    "        if np.array_equal(action, [1, 0, 0]):\n",
    "            new_dir = clock_wise[idx] # no change\n",
    "        elif np.array_equal(action, [0, 1, 0]):\n",
    "            next_idx = (idx + 1) % 4\n",
    "            new_dir = clock_wise[next_idx] # right turn r -> d -> l -> u\n",
    "        else: # [0, 0, 1]\n",
    "            next_idx = (idx - 1) % 4\n",
    "            new_dir = clock_wise[next_idx] # left turn r -> u -> l -> d\n",
    "\n",
    "        self.direction = new_dir\n",
    "\n",
    "        x = self.head.x\n",
    "        y = self.head.y\n",
    "        if direction == Direction.RIGHT:\n",
    "            x += BLOCK_SIZE\n",
    "        elif direction == Direction.LEFT:\n",
    "            x -= BLOCK_SIZE\n",
    "        elif direction == Direction.DOWN:\n",
    "            y += BLOCK_SIZE\n",
    "        elif direction == Direction.UP:\n",
    "            y -= BLOCK_SIZE\n",
    "            \n",
    "        self.head = Point(x, y)"
   ]
  },
  {
   "cell_type": "markdown",
   "id": "ea799981",
   "metadata": {},
   "source": [
    "#### reset()"
   ]
  },
  {
   "cell_type": "markdown",
   "id": "6fb396c7",
   "metadata": {},
   "source": [
    "#### reward()"
   ]
  },
  {
   "cell_type": "markdown",
   "id": "c6f89778",
   "metadata": {},
   "source": [
    "#### lambda run(action):direction"
   ]
  },
  {
   "cell_type": "markdown",
   "id": "f42f208a",
   "metadata": {},
   "source": [
    "#### tracker()"
   ]
  },
  {
   "cell_type": "markdown",
   "id": "3748ce14",
   "metadata": {},
   "source": [
    "#### hit?()"
   ]
  },
  {
   "cell_type": "code",
   "execution_count": null,
   "id": "3cdbf5db",
   "metadata": {},
   "outputs": [],
   "source": []
  }
 ],
 "metadata": {
  "kernelspec": {
   "display_name": "Python 3 (ipykernel)",
   "language": "python",
   "name": "python3"
  },
  "language_info": {
   "codemirror_mode": {
    "name": "ipython",
    "version": 3
   },
   "file_extension": ".py",
   "mimetype": "text/x-python",
   "name": "python",
   "nbconvert_exporter": "python",
   "pygments_lexer": "ipython3",
   "version": "3.9.7"
  }
 },
 "nbformat": 4,
 "nbformat_minor": 5
}
